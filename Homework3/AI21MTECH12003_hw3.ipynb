{
 "cells": [
  {
   "cell_type": "code",
   "execution_count": 5,
   "id": "ef12411f",
   "metadata": {},
   "outputs": [],
   "source": [
    "import numpy as np\n",
    "import matplotlib.pyplot as plt\n",
    "import matplotlib.image as mpimg\n",
    "from sklearn.manifold import TSNE"
   ]
  },
  {
   "cell_type": "markdown",
   "id": "8eaffdad",
   "metadata": {},
   "source": [
    "#### (1) Convolution function"
   ]
  },
  {
   "cell_type": "code",
   "execution_count": 6,
   "id": "98141f9a",
   "metadata": {},
   "outputs": [],
   "source": [
    "def hw2q3Replication_padding(channel, width, height, kernel_width, kernel_height, padding_width, padding_height, img):\n",
    "    input = np.zeros((width + padding_width, height + padding_height, channel), float)\n",
    "    for i in range(width):\n",
    "        for j in range(height):\n",
    "            for c in range(channel):\n",
    "                input[i + int((padding_width)/2)][j + int((padding_height)/2)][c] = img[i][j][c]\n",
    "    for i in range(0, int((padding_width)/2)):\n",
    "        for j in range(int((padding_height)/2), height + int((padding_height)/2)):\n",
    "            for c in range(channel):\n",
    "                input[i][j][c] = input[padding_width - 1 - i][j][c]\n",
    "                input[width + padding_width - 1 - i][j] = input[width + i][j] \n",
    "    for i in range(0, width + padding_width):\n",
    "        for j in range(0, int((padding_height)/2)):\n",
    "            for c in range(channel):\n",
    "                input[i][j][c] = input[i][padding_height - 1 - j][c]\n",
    "                input[i][height + padding_height - 1 - j] = input[i][height + j]\n",
    "    return input\n",
    "\n",
    "def hw3q1Striding(width, height, kernel_width, kernel_height, padding_width, padding_height, stride_width, stride_height, conv_output):\n",
    "    output = np.zeros((int((width - kernel_width + padding_width + stride_width)/stride_width), int((height - kernel_height + padding_height + stride_height)/stride_height)), float)\n",
    "    k=0\n",
    "    i=0\n",
    "    while(i >= 0 and i < (width - kernel_width + padding_width + 1) and k >= 0 and k < (int((width - kernel_width + padding_width + stride_width)/stride_width))):\n",
    "        l = 0\n",
    "        j = 0\n",
    "        while(j >= 0 and j < (height - kernel_height + padding_height + 1) and l >= 0 and l < (int((height - kernel_height + padding_height + stride_height)/stride_height)) ):\n",
    "            output[k][l] = conv_output[i][j]\n",
    "            j = j + stride_height\n",
    "            l = l + 1\n",
    "        i = i + stride_width\n",
    "        k = k + 1\n",
    "    return output\n",
    "\n",
    "def sigmoid(z):\n",
    "    sig = (1.0/(1+np.exp(-z)))\n",
    "    return sig\n",
    "\n",
    "def tanh(z):\n",
    "    return np.tanh(z)\n",
    "\n",
    "def ReLU(z):\n",
    "    return max(0, z)\n",
    "\n",
    "def PReLU(z, alpha):\n",
    "    return max(0, z) + alpha * min(0, z)"
   ]
  },
  {
   "cell_type": "code",
   "execution_count": 7,
   "id": "3deae9ce",
   "metadata": {},
   "outputs": [],
   "source": [
    "def hw3q1Convolution(img, kernel, stride, padding, nl_func, alpha=0):\n",
    "    width = img.shape[0]\n",
    "    height = img.shape[1]\n",
    "    channel = img.shape[2]\n",
    "    kernel_width = kernel.shape[0]\n",
    "    kernel_height = kernel.shape[1]\n",
    "    padding_width = padding[0]\n",
    "    padding_height = padding[1]\n",
    "    stride_width = stride[0]\n",
    "    stride_height = stride[1]\n",
    "    input = hw2q3Replication_padding(channel, width, height, kernel_width, kernel_height,padding_width, padding_height, img)\n",
    "    conv_output = np.zeros((width  + padding_width , height + padding_height), int)\n",
    "    for i in range(int((kernel_width-1)/2), width + padding_width - int((kernel_width-1)/2) ):\n",
    "        for j in range(int((kernel_height-1)/2), height + padding_height - int((kernel_height-1)/2)):\n",
    "            for c in range(channel):\n",
    "                for k in range(-int((kernel_width - 1)/2), int((kernel_width - 1)/2) + 1):\n",
    "                    for l in range(-int((kernel_height - 1)/2), int((kernel_height - 1)/2) + 1):\n",
    "                        #if (i - k) >= 0 and (i - k) < (width - kernel_width + padding_width + 1) and (j - l) >= 0 and (j - l) < (height - kernel_height + padding_height + 1):\n",
    "                        conv_output[i][j] += input[i - k][j - l][c] * kernel[int((kernel_width - 1)/2) + k][int((kernel_height - 1)/2)+ l][c]\n",
    "    #print(conv_output)\n",
    "    conv_output = conv_output[int((kernel_width - 1)/2):int(width + padding_width - int((kernel_width - 1)/2)), int((kernel_height - 1)/2):int(height + padding_height - int((kernel_height - 1)/2))].astype(float)\n",
    "    #print(conv_output)\n",
    "    output_temp = hw3q1Striding(width, height, kernel_width, kernel_height, padding_width, padding_height, stride_width, stride_height, conv_output)\n",
    "    #output_temp = (255*(output_temp - np.min(output_temp))/np.ptp(output_temp)).astype(float)\n",
    "    for i in range(int((width - kernel_width + padding_width + stride_width)/stride_width)):\n",
    "        for j in range(int((height - kernel_height + padding_height + stride_height)/stride_height)):\n",
    "            if nl_func == 'sigmoid':\n",
    "                output_temp[i][j] = sigmoid(output_temp[i][j])\n",
    "            elif nl_func == 'tanh':\n",
    "                output_temp[i][j] = tanh(output_temp[i][j])\n",
    "            elif nl_func == 'ReLU':\n",
    "                output_temp[i][j] = ReLU(output_temp[i][j])\n",
    "            elif nl_func == 'PReLU':\n",
    "                output_temp[i][j] = PReLU(output_temp[i][j], alpha)\n",
    "    #print(output_temp)\n",
    "    return output_temp"
   ]
  },
  {
   "cell_type": "code",
   "execution_count": 8,
   "id": "189afc33",
   "metadata": {
    "scrolled": false
   },
   "outputs": [
    {
     "name": "stdout",
     "output_type": "stream",
     "text": [
      "original image size :  (32, 32, 3)\n",
      "original image\n"
     ]
    },
    {
     "data": {
      "image/png": "[encoded data removed]",
      "text/plain": [
       "<Figure size 432x288 with 1 Axes>"
      ]
     },
     "metadata": {
      "needs_background": "light"
     },
     "output_type": "display_data"
    },
    {
     "name": "stdout",
     "output_type": "stream",
     "text": [
      "Filter Kernel size:  (3, 3, 3)\n",
      "Filter Kernel:  [[[ 1.15122785  1.25251741 -0.82659622]\n",
      "  [ 1.79283945  0.32698139  0.28780508]\n",
      "  [-0.20200279 -0.60236523  1.90666786]]\n",
      "\n",
      " [[ 1.87559069 -1.88755023 -0.18307925]\n",
      "  [ 0.1259105  -0.21768478  0.57054341]\n",
      "  [ 1.36348099 -0.78338889 -0.13257571]]\n",
      "\n",
      " [[-0.9886668   0.19944381  0.15124998]\n",
      "  [ 0.2117279  -0.42006015 -0.06078882]\n",
      "  [-1.74221145 -0.11504206 -0.32900527]]]\n",
      "activation map after sigmoid size :  (17, 17)\n",
      "activation map after sigmoid\n"
     ]
    },
    {
     "data": {
      "image/png": "[encoded data removed]",
      "text/plain": [
       "<Figure size 432x288 with 1 Axes>"
      ]
     },
     "metadata": {
      "needs_background": "light"
     },
     "output_type": "display_data"
    },
    {
     "name": "stdout",
     "output_type": "stream",
     "text": [
      "activation map after tanh size :  (17, 17)\n",
      "activation map after tanh\n"
     ]
    },
    {
     "data": {
      "image/png": "[encoded data removed]",
      "text/plain": [
       "<Figure size 432x288 with 1 Axes>"
      ]
     },
     "metadata": {
      "needs_background": "light"
     },
     "output_type": "display_data"
    },
    {
     "name": "stdout",
     "output_type": "stream",
     "text": [
      "activation map after ReLU size :  (17, 17)\n",
      "activation map after ReLU\n"
     ]
    },
    {
     "data": {
      "image/png": "[encoded data removed]",
      "text/plain": [
       "<Figure size 432x288 with 1 Axes>"
      ]
     },
     "metadata": {
      "needs_background": "light"
     },
     "output_type": "display_data"
    },
    {
     "name": "stdout",
     "output_type": "stream",
     "text": [
      "activation map after PReLU size :  (17, 17)\n",
      "activation map after PReLU\n"
     ]
    },
    {
     "data": {
      "image/png": "[encoded data removed]",
      "text/plain": [
       "<Figure size 432x288 with 1 Axes>"
      ]
     },
     "metadata": {
      "needs_background": "light"
     },
     "output_type": "display_data"
    }
   ],
   "source": [
    "def unpickle(file):\n",
    "    import pickle\n",
    "    with open(file, 'rb') as fo:\n",
    "        dict = pickle.load(fo, encoding='bytes')\n",
    "    return dict\n",
    "\n",
    "def ImageMatrix(dictionary, image_number):\n",
    "    data = dictionary[b'data']\n",
    "    image_width = 32\n",
    "    image_height = 32\n",
    "    channel = 3\n",
    "    image = np.zeros((image_width, image_height, channel), int)\n",
    "    for i in range(image_width):\n",
    "        for j in range(image_height):\n",
    "            for c in range(channel):\n",
    "                #print(i, j, c, i*32 + j + c*1024)\n",
    "                image[i][j][c] = data[image_number][i*32 + j + c*1024]\n",
    "    return image\n",
    "\n",
    "dictionary = unpickle('cifar-10-batches-py\\data_batch_1')\n",
    "image = ImageMatrix(dictionary, 8)\n",
    "#print(image.shape)\n",
    "print(\"original image size : \", image.shape)\n",
    "print(\"original image\")\n",
    "plt.imshow(image)\n",
    "plt.show()\n",
    "\n",
    "kernel1 = np.random.randn(3,3,3)\n",
    "#kernel1 = np.array([[[165, 204, 214], [132, 179, 193], [110, 159, 187]], [[166, 202, 217], [165, 200, 217], [163, 198, 215]], [[162, 199, 215], [161, 198, 216], [161, 199, 214]]])\n",
    "#kernel1 = np.array([[[12, 32, 40], [55, 10, 11], [200, 13, 17]], [[66, 34, 28], [99, 100, 130], [80, 85, 95]], [[105, 115, 215], [161, 201, 15], [77, 80, 14]]])\n",
    "print(\"Filter Kernel size: \", kernel1.shape)\n",
    "print(\"Filter Kernel: \", kernel1)\n",
    "\n",
    "#plt.imshow(kernel1)\n",
    "#plt.show()\n",
    "#image1 = np.array([[1,2,3,4,5], [6,7,8,9,10], [11,12,13,14,15], [16,17,18,19,20], [21,22,23,24,25]])\n",
    "#image1 = image1.reshape((image1.shape[0], image1.shape[1], 1))\n",
    "\n",
    "stride = np.array([2,2])\n",
    "padding = np.array([4,4])\n",
    "alpha = 0.01\n",
    "\n",
    "output1 = hw3q1Convolution(image, kernel1, stride, padding, 'sigmoid')\n",
    "print(\"activation map after sigmoid size : \", output1.shape)\n",
    "print(\"activation map after sigmoid\")\n",
    "plt.imshow(output1)\n",
    "plt.show()\n",
    "output2 = hw3q1Convolution(image, kernel1, stride, padding, 'tanh')\n",
    "print(\"activation map after tanh size : \", output2.shape)\n",
    "print(\"activation map after tanh\")\n",
    "#print(output2)\n",
    "plt.imshow(output2)\n",
    "plt.show()\n",
    "output3 = hw3q1Convolution(image, kernel1, stride, padding, 'ReLU')\n",
    "print(\"activation map after ReLU size : \", output3.shape)\n",
    "print(\"activation map after ReLU\")\n",
    "#print(output3)\n",
    "plt.imshow(output3)\n",
    "plt.show()\n",
    "output4 = hw3q1Convolution(image, kernel1, stride, padding, 'PReLU', alpha)\n",
    "print(\"activation map after PReLU size : \", output4.shape)\n",
    "print(\"activation map after PReLU\")\n",
    "plt.imshow(output4)\n",
    "plt.show()"
   ]
  },
  {
   "cell_type": "markdown",
   "id": "795b201d",
   "metadata": {},
   "source": [
    "#### (2) Pooling function"
   ]
  },
  {
   "cell_type": "code",
   "execution_count": 9,
   "id": "0cb9eb67",
   "metadata": {},
   "outputs": [],
   "source": [
    "def hw3q2Maximum(activation_pool):\n",
    "    max = activation_pool[0][0]\n",
    "    for i in range(activation_pool.shape[0]):\n",
    "        for j in range(activation_pool.shape[1]):\n",
    "            if activation_pool[i][j] > max:\n",
    "                max = activation_pool[i][j]\n",
    "    return max\n",
    "\n",
    "def hw3q2Average(activation_pool):\n",
    "    sum = 0\n",
    "    for i in range(activation_pool.shape[0]):\n",
    "        for j in range(activation_pool.shape[1]):\n",
    "            sum += activation_pool[i][j]\n",
    "    count = activation_pool.shape[0] * activation_pool.shape[1]\n",
    "    return (sum/count)\n",
    "\n",
    "def hw3q2Norm(activation_pool):\n",
    "    sum = 0\n",
    "    for i in range(activation_pool.shape[0]):\n",
    "        for j in range(activation_pool.shape[1]):\n",
    "            sum += (activation_pool[i][j]*activation_pool[i][j])\n",
    "    return np.sqrt(sum)"
   ]
  },
  {
   "cell_type": "code",
   "execution_count": 10,
   "id": "e1cfb4db",
   "metadata": {},
   "outputs": [],
   "source": [
    "def hw3q2Pooling(activation_map, pool_func, pool_size, pool_stride):\n",
    "    width = activation_map.shape[0]\n",
    "    height = activation_map.shape[1]\n",
    "    pool_width = pool_size[0]\n",
    "    pool_height = pool_size[1]\n",
    "    pool_stride_width = pool_stride[0]\n",
    "    pool_stride_height = pool_stride[1]\n",
    "    #print(activation_map.shape)\n",
    "    Y = np.zeros((width - pool_width + 1, height - pool_height + 1), float)\n",
    "    for i in range(Y.shape[0]):\n",
    "        for j in range(Y.shape[1]):\n",
    "            #print(activation_map[i:i+pool_width, j:j+pool_height].flatten().shape)\n",
    "            if pool_func == 'maximum':\n",
    "                Y[i][j] = hw3q2Maximum(activation_map[i:i+pool_width, j:j+pool_height])\n",
    "            elif pool_func == 'average':\n",
    "                Y[i][j] = hw3q2Average(activation_map[i:i+pool_width, j:j+pool_height])\n",
    "            elif pool_func == 'norm':\n",
    "                Y[i][j] = hw3q2Norm(activation_map[i:i+pool_width, j:j+pool_height])\n",
    "    output = np.zeros((int((width - pool_width + pool_stride_width)/pool_stride_width), int((height - pool_height + pool_stride_height)/pool_stride_height)), float)\n",
    "    i = 0\n",
    "    k = 0\n",
    "    while( i >= 0 and i < (width - pool_width + 1) and k >= 0 and k < int((width - pool_width + pool_stride_width)/pool_stride_width)):\n",
    "        j = 0\n",
    "        l = 0\n",
    "        while( j >= 0 and j < (height - pool_height + 1) and l >= 0 and l < int((height - pool_height + pool_stride_height)/pool_stride_height)):\n",
    "            output[k][l] = Y[i][j]\n",
    "            j = j + pool_stride_height\n",
    "            l = l + 1\n",
    "        i = i + pool_stride_width\n",
    "        k = k + 1\n",
    "    return output"
   ]
  },
  {
   "cell_type": "code",
   "execution_count": 11,
   "id": "c23a8746",
   "metadata": {},
   "outputs": [
    {
     "name": "stdout",
     "output_type": "stream",
     "text": [
      "input activation map size:  (17, 17)\n",
      "input activation map: \n",
      "[[ 363.  345.  381.  394.  323.  352.  420.  358.  341.  347.  349.  350.\n",
      "   344.  324.  329.  340.  349.]\n",
      " [ 337.  328.  321.  308.  328.  361.  352.  363.  361.  358.  358.  355.\n",
      "   361.  388.  349.  338.  335.]\n",
      " [ 325.  328.  334.  327.  345.  372.  416.  352.  348.  352.  357.  356.\n",
      "   343.  334.  337.  346.  343.]\n",
      " [ 171.  208.  235.  271.  285.  340.  382.  341.  341.  336.  352.  350.\n",
      "   341.  332.  339.  341.  341.]\n",
      " [   2.    0.    0.    0.    0.  122.  461.  517.  183.   80.   89.  115.\n",
      "   103.   78.   73.  121.  131.]\n",
      " [  88.   94.   84.   86.  153.  202.  110.    0.   42.   57.   65.   50.\n",
      "    50.   51.   62.   37.   20.]\n",
      " [ 114.  115.  108.  108.  125.  202.  221.  362.  620.  553.  149.  124.\n",
      "   112.  116.  115.  111.  105.]\n",
      " [  76.   86.  100.   92.  109.  400.  652.  665.  432.  356.  237.  111.\n",
      "   120.  113.   96.  102.   96.]\n",
      " [ 115.  117.  103.   80.  105.   62.   31.    6.   34.  275.  293.  507.\n",
      "   677.  763.  777.  425.   81.]\n",
      " [ 205.  199.   86.   79.  127.  207.  553.  406.  193.  452.  711.  672.\n",
      "   807.  717.  274.    0.   85.]\n",
      " [  52.   56.   98.  114.  193.  706.  672.  537.  733.  881.  607.  328.\n",
      "     0.    0.    0.   25.  103.]\n",
      " [ 136.  200.  481.  484.  479.  655.  499.  678.  572.    0.    0.    0.\n",
      "     0.    6.  145.   94.   95.]\n",
      " [ 826.  799.  497.  440.  398.  592.  333.   57.    0.    0.   84.  116.\n",
      "   109.   33.  141.   84.   72.]\n",
      " [ 265.  210.   30.    0.  427.  678.  456.  575.  854. 1082. 1090.  840.\n",
      "   296.   71.    8.   41.   59.]\n",
      " [ 358.  364.  283.  377.  785.  597.  688.  780.  716.  658.  580.  585.\n",
      "   543.   98.    0.   38.   52.]\n",
      " [ 647.  581.  523.  790.  655.  615.  628.  632.  652.  640.  573.  528.\n",
      "   562.  354.   79.   82.   82.]\n",
      " [ 513.  461.  560.  650.  588.  615.  618.  622.  614.  590.  514.  445.\n",
      "   415.  296.   75.   88.   89.]]\n"
     ]
    },
    {
     "data": {
      "image/png": "[encoded data removed]",
      "text/plain": [
       "<Figure size 432x288 with 1 Axes>"
      ]
     },
     "metadata": {
      "needs_background": "light"
     },
     "output_type": "display_data"
    },
    {
     "name": "stdout",
     "output_type": "stream",
     "text": [
      "pooled output size :  (8, 8)\n",
      "pooled output : \n",
      "[[ 381.  394.  420.  420.  361.  361.  388.  349.]\n",
      " [ 334.  345.  461.  517.  357.  357.  343.  346.]\n",
      " [ 115.  153.  461.  620.  620.  149.  116.  131.]\n",
      " [ 117.  125.  652.  665.  620.  677.  777.  777.]\n",
      " [ 205.  193.  706.  733.  881.  807.  807.  777.]\n",
      " [ 826.  497.  706.  733.  881.  607.  145.  145.]\n",
      " [ 826.  785.  785.  854. 1090. 1090.  543.  141.]\n",
      " [ 647.  790.  785.  780.  716.  585.  562.   89.]]\n"
     ]
    },
    {
     "data": {
      "image/png": "[encoded data removed]",
      "text/plain": [
       "<Figure size 432x288 with 1 Axes>"
      ]
     },
     "metadata": {
      "needs_background": "light"
     },
     "output_type": "display_data"
    }
   ],
   "source": [
    "print(\"input activation map size: \", output3.shape)\n",
    "print(\"input activation map: \")\n",
    "print(output3)\n",
    "plt.imshow(output3)\n",
    "plt.show()\n",
    "pool_size = np.array([3,3])\n",
    "pool_stride = np.array([2,2])\n",
    "pooled_output3 = hw3q2Pooling(output3, 'maximum', pool_size, pool_stride)\n",
    "#print(pooled_output3.astype(int))\n",
    "print(\"pooled output size : \", pooled_output3.shape)\n",
    "print(\"pooled output : \")\n",
    "print(pooled_output3)\n",
    "plt.imshow(pooled_output3)\n",
    "plt.show()"
   ]
  },
  {
   "cell_type": "markdown",
   "id": "7228dcb7",
   "metadata": {},
   "source": [
    "#### (3) Convolution layer function"
   ]
  },
  {
   "cell_type": "code",
   "execution_count": 12,
   "id": "1d4a0d97",
   "metadata": {},
   "outputs": [],
   "source": [
    "def hw3q3RandomKernels(num_kernels, kernel_size):\n",
    "    kernels = list()\n",
    "    for m in range(num_kernels):\n",
    "        kernels.append(np.random.randn(kernel_size[0], kernel_size[1], kernel_size[2]))\n",
    "    return np.array(kernels)\n",
    "\n",
    "def hw3q3ConvolutionLayer(img, kernels, stride, padding, nl_func, alpha=0):\n",
    "    width = img.shape[0]\n",
    "    height = img.shape[1]\n",
    "    channel = img.shape[2]\n",
    "    stride_width = stride[0]\n",
    "    stride_height = stride[1]\n",
    "    padding_width = padding[0]\n",
    "    padding_height = padding[1]\n",
    "    kernel_width = kernels.shape[1]\n",
    "    kernel_height = kernels.shape[2]\n",
    "    output = np.zeros((int((width - kernel_width + padding_width + stride_width)/stride_width), int((height - kernel_height + padding_height + stride_height)/stride_height), kernels.shape[0]), float)\n",
    "    for m in range(kernels.shape[0]):\n",
    "        #print(\"kernel : \", kernels[m])\n",
    "        output_temp = hw3q1Convolution(img, kernels[m], stride, padding, nl_func, alpha)\n",
    "        #plt.imshow(output_temp)\n",
    "        #plt.show()\n",
    "        for i in range(output.shape[0]):\n",
    "            for j in range(output.shape[1]):\n",
    "                output[i][j][m] = output_temp[i][j]\n",
    "    return output"
   ]
  },
  {
   "cell_type": "code",
   "execution_count": 13,
   "id": "26534129",
   "metadata": {},
   "outputs": [
    {
     "name": "stdout",
     "output_type": "stream",
     "text": [
      "original image size :  (32, 32, 3)\n",
      "original image\n"
     ]
    },
    {
     "data": {
      "image/png": "[encoded data removed]",
      "text/plain": [
       "<Figure size 432x288 with 1 Axes>"
      ]
     },
     "metadata": {
      "needs_background": "light"
     },
     "output_type": "display_data"
    },
    {
     "name": "stdout",
     "output_type": "stream",
     "text": [
      "Filter kernels size :  (4, 3, 3, 3)\n",
      "Filter kernels: \n",
      "[[[[ 0.34762546 -0.63578238  0.70052593]\n",
      "   [ 1.35249281  1.21475081  0.34879362]\n",
      "   [ 0.38522563 -0.20657924 -0.11588953]]\n",
      "\n",
      "  [[-0.0477904  -0.53106762 -1.0911135 ]\n",
      "   [ 0.32917486 -1.27958523  0.91442804]\n",
      "   [-0.26155659  1.5961305  -0.41235722]]\n",
      "\n",
      "  [[ 0.09930111 -0.53076947  0.99030309]\n",
      "   [ 1.03905318  0.68693421 -1.41771205]\n",
      "   [ 0.46501109 -1.00308431  1.24300663]]]\n",
      "\n",
      "\n",
      " [[[-0.41863428  1.01930911  0.59741944]\n",
      "   [-0.85070176  1.17644501 -0.36119757]\n",
      "   [ 1.07535157  0.79368638  0.96875011]]\n",
      "\n",
      "  [[ 0.73970743 -0.31213872 -0.71384926]\n",
      "   [-1.77516159 -0.02874201  0.74585519]\n",
      "   [-0.98405977 -0.29596881  0.14362319]]\n",
      "\n",
      "  [[-2.29252786 -1.51234783  1.6518586 ]\n",
      "   [ 1.41835485  1.54742223 -0.06267302]\n",
      "   [ 1.03782088 -0.61833562  0.85366043]]]\n",
      "\n",
      "\n",
      " [[[ 1.59250676 -0.12470095  0.78867609]\n",
      "   [-0.33456184 -0.50011317  0.18648837]\n",
      "   [ 0.15754717  0.71347277  0.5117275 ]]\n",
      "\n",
      "  [[-1.17290516 -1.52236532 -0.06326159]\n",
      "   [-1.87864706 -1.26006295 -0.73263294]\n",
      "   [ 0.00959266 -0.58412527 -0.34822291]]\n",
      "\n",
      "  [[ 0.63068327  0.23551436  0.3455282 ]\n",
      "   [ 0.79175967  0.01691027 -0.57577746]\n",
      "   [-0.87323729 -0.40411705 -0.73007208]]]\n",
      "\n",
      "\n",
      " [[[ 0.51478557  0.51563753 -0.53192913]\n",
      "   [ 0.05547469 -2.79811142 -0.10750626]\n",
      "   [-0.67505279  0.52655168  0.63478664]]\n",
      "\n",
      "  [[-1.05761206  1.31031992 -0.14468722]\n",
      "   [ 0.261366   -0.51508973  1.48080092]\n",
      "   [-0.7941224  -1.09157707  0.51663092]]\n",
      "\n",
      "  [[-0.22265685  0.03765932 -0.07733157]\n",
      "   [-1.20313481 -0.55185507 -1.27987532]\n",
      "   [ 0.37358921 -0.52450679  0.30219916]]]]\n",
      "Convolved strided Layer output size :  (17, 17, 4)\n",
      "Convolved strided Layer output : \n",
      "[[[ 606.  904.    0.    0.]\n",
      "  [ 607.  915.    0.    0.]\n",
      "  [ 597.  889.    0.    0.]\n",
      "  ...\n",
      "  [ 591.  915.    0.    0.]\n",
      "  [ 589.  909.    0.    0.]\n",
      "  [ 593.  909.    0.    0.]]\n",
      "\n",
      " [[ 595.  902.    0.    0.]\n",
      "  [ 595.  909.    0.    0.]\n",
      "  [ 601.  881.    0.    0.]\n",
      "  ...\n",
      "  [ 591.  907.    0.    0.]\n",
      "  [ 582.  906.    0.    0.]\n",
      "  [ 583.  902.    0.    0.]]\n",
      "\n",
      " [[ 579.  918.    0.    0.]\n",
      "  [ 582.  911.    0.    0.]\n",
      "  [ 590.  920.    0.    0.]\n",
      "  ...\n",
      "  [ 593.  915.    0.    0.]\n",
      "  [ 590.  912.    0.    0.]\n",
      "  [ 586.  910.    0.    0.]]\n",
      "\n",
      " ...\n",
      "\n",
      " [[ 622.  944.    0.    0.]\n",
      "  [ 638. 1006.    0.    0.]\n",
      "  [ 496.  658.    0.    0.]\n",
      "  ...\n",
      "  [ 122.  502.    0.    0.]\n",
      "  [ 168.  606.    0.    0.]\n",
      "  [ 186.  634.    0.    0.]]\n",
      "\n",
      " [[ 762.  907.    0.    0.]\n",
      "  [ 758.  915.    0.    0.]\n",
      "  [ 685.  865.    0.    0.]\n",
      "  ...\n",
      "  [ 123.  558.    0.    0.]\n",
      "  [ 168.  602.    0.    0.]\n",
      "  [ 195.  629.    0.    0.]]\n",
      "\n",
      " [[ 820.  889.    0.    0.]\n",
      "  [ 808.  978.    0.    0.]\n",
      "  [ 695.  807.    0.    0.]\n",
      "  ...\n",
      "  [ 189.  606.    0.    0.]\n",
      "  [ 187.  601.    0.    0.]\n",
      "  [ 199.  625.    0.    0.]]]\n"
     ]
    }
   ],
   "source": [
    "print(\"original image size : \", image.shape)\n",
    "print(\"original image\")\n",
    "plt.imshow(image)\n",
    "plt.show()\n",
    "\n",
    "kernels = hw3q3RandomKernels(4, np.append(np.array([3,3]), image.shape[2]))\n",
    "print(\"Filter kernels size : \", kernels.shape)\n",
    "print(\"Filter kernels: \")\n",
    "print(kernels)\n",
    "\n",
    "layer_stride = np.array([2,2])\n",
    "layer_padding = np.array([4,4])\n",
    "\n",
    "layer_output = hw3q3ConvolutionLayer(image, kernels, layer_stride, layer_padding, 'ReLU')\n",
    "print(\"Convolved strided Layer output size : \", layer_output.shape)\n",
    "print(\"Convolved strided Layer output : \")\n",
    "print(layer_output)"
   ]
  },
  {
   "cell_type": "markdown",
   "id": "aec95246",
   "metadata": {},
   "source": [
    "#### (4) Pooling Layer Function"
   ]
  },
  {
   "cell_type": "code",
   "execution_count": 14,
   "id": "9b4e7875",
   "metadata": {},
   "outputs": [],
   "source": [
    "def hw3q4PoolingLayer(activation_map, pool_func, pool_layer_size, pool_layer_stride):\n",
    "    width = activation_map.shape[0]\n",
    "    height = activation_map.shape[1]\n",
    "    M = activation_map.shape[2]\n",
    "    pool_layer_width = pool_layer_size[0]\n",
    "    pool_layer_height = pool_layer_size[1]\n",
    "    pool_layer_stride_width = pool_layer_stride[0]\n",
    "    pool_layer_stride_height = pool_layer_stride[1]\n",
    "    Y = np.zeros((int((width - pool_layer_width + pool_layer_stride_width)/pool_layer_stride_width), int((height - pool_layer_height + pool_layer_stride_height)/pool_layer_stride_height), M), float)\n",
    "    for m in range(M):\n",
    "        y = hw3q2Pooling(activation_map[:,:,m], pool_func,pool_layer_size, pool_layer_stride)\n",
    "        for i in range(Y.shape[0]):\n",
    "            for j in range(Y.shape[1]):\n",
    "                Y[i][j][m] = y[i][j]\n",
    "    return Y"
   ]
  },
  {
   "cell_type": "code",
   "execution_count": 15,
   "id": "3790bd4d",
   "metadata": {},
   "outputs": [
    {
     "name": "stdout",
     "output_type": "stream",
     "text": [
      "input activation map volume :  (17, 17, 4)\n",
      "input activation map volume : \n",
      "[[[ 606.  904.    0.    0.]\n",
      "  [ 607.  915.    0.    0.]\n",
      "  [ 597.  889.    0.    0.]\n",
      "  ...\n",
      "  [ 591.  915.    0.    0.]\n",
      "  [ 589.  909.    0.    0.]\n",
      "  [ 593.  909.    0.    0.]]\n",
      "\n",
      " [[ 595.  902.    0.    0.]\n",
      "  [ 595.  909.    0.    0.]\n",
      "  [ 601.  881.    0.    0.]\n",
      "  ...\n",
      "  [ 591.  907.    0.    0.]\n",
      "  [ 582.  906.    0.    0.]\n",
      "  [ 583.  902.    0.    0.]]\n",
      "\n",
      " [[ 579.  918.    0.    0.]\n",
      "  [ 582.  911.    0.    0.]\n",
      "  [ 590.  920.    0.    0.]\n",
      "  ...\n",
      "  [ 593.  915.    0.    0.]\n",
      "  [ 590.  912.    0.    0.]\n",
      "  [ 586.  910.    0.    0.]]\n",
      "\n",
      " ...\n",
      "\n",
      " [[ 622.  944.    0.    0.]\n",
      "  [ 638. 1006.    0.    0.]\n",
      "  [ 496.  658.    0.    0.]\n",
      "  ...\n",
      "  [ 122.  502.    0.    0.]\n",
      "  [ 168.  606.    0.    0.]\n",
      "  [ 186.  634.    0.    0.]]\n",
      "\n",
      " [[ 762.  907.    0.    0.]\n",
      "  [ 758.  915.    0.    0.]\n",
      "  [ 685.  865.    0.    0.]\n",
      "  ...\n",
      "  [ 123.  558.    0.    0.]\n",
      "  [ 168.  602.    0.    0.]\n",
      "  [ 195.  629.    0.    0.]]\n",
      "\n",
      " [[ 820.  889.    0.    0.]\n",
      "  [ 808.  978.    0.    0.]\n",
      "  [ 695.  807.    0.    0.]\n",
      "  ...\n",
      "  [ 189.  606.    0.    0.]\n",
      "  [ 187.  601.    0.    0.]\n",
      "  [ 199.  625.    0.    0.]]]\n",
      "pooled output Volume size :  (7, 7, 4)\n",
      "pooled output Volume: \n",
      "[[[ 625.  931.    0.    0.]\n",
      "  [ 668.  931.    0.    0.]\n",
      "  [ 734.  939.    0.    0.]\n",
      "  [ 734.  939.    0.    0.]\n",
      "  [ 619.  939.    0.    0.]\n",
      "  [ 616.  933.    0.    0.]\n",
      "  [ 616.  933.    0.    0.]]\n",
      "\n",
      " [[ 590.  920.    0.    0.]\n",
      "  [ 668.  920.    0.    0.]\n",
      "  [ 734.  972.    0.    0.]\n",
      "  [ 734.  995.    0.    0.]\n",
      "  [ 659.  995.    0.    0.]\n",
      "  [ 612.  963.    0.    0.]\n",
      "  [ 608.  926.    0.    0.]]\n",
      "\n",
      " [[ 383.  869.    0.    0.]\n",
      "  [ 617.  861.    0.    0.]\n",
      "  [ 734.  972.    0.    0.]\n",
      "  [ 734.  995.    0.    0.]\n",
      "  [ 686.  995.    0.    0.]\n",
      "  [ 680.  990.    0.    0.]\n",
      "  [ 680.  990.    0.    0.]]\n",
      "\n",
      " [[ 314.  806.    0.    0.]\n",
      "  [ 743.  830.    0.    0.]\n",
      "  [ 773.  972.    0.    0.]\n",
      "  [ 849.  995.    0.    0.]\n",
      "  [ 871.  995.    0.    0.]\n",
      "  [ 896.  990.    0.    0.]\n",
      "  [ 896.  990.    0.    0.]]\n",
      "\n",
      " [[ 669.  949.    0.    0.]\n",
      "  [ 821.  938.    0.    0.]\n",
      "  [ 821.  874.    0.    0.]\n",
      "  [ 849.  874.    0.    0.]\n",
      "  [ 871.  965.    0.    0.]\n",
      "  [ 896.  990.    0.    0.]\n",
      "  [ 896.  990.    0.    0.]]\n",
      "\n",
      " [[ 711. 1006.    0.    0.]\n",
      "  [ 892.  998.    0.    0.]\n",
      "  [ 940. 1002.    0.    0.]\n",
      "  [ 977. 1002.    0.    0.]\n",
      "  [ 977. 1032.    0.    0.]\n",
      "  [ 956. 1032.    0.    0.]\n",
      "  [ 725.  798.    0.    0.]]\n",
      "\n",
      " [[ 897. 1006.    0.    0.]\n",
      "  [ 947.  998.    0.    0.]\n",
      "  [ 980. 1002.    0.    0.]\n",
      "  [ 990. 1002.    0.    0.]\n",
      "  [ 990. 1091.    0.    0.]\n",
      "  [ 956. 1091.    0.    0.]\n",
      "  [ 855. 1091.    0.    0.]]]\n"
     ]
    }
   ],
   "source": [
    "print(\"input activation map volume : \", layer_output.shape)\n",
    "print(\"input activation map volume : \")\n",
    "print(layer_output)\n",
    "pool_layer_size = np.array([5,5])\n",
    "pool_layer_stride = np.array([2,2])\n",
    "pooled_layer_output = hw3q4PoolingLayer(layer_output, 'maximum',pool_layer_size, pool_layer_stride)\n",
    "#print(pooled_output3.astype(int))\n",
    "print(\"pooled output Volume size : \", pooled_layer_output.shape)\n",
    "print(\"pooled output Volume: \")\n",
    "print(pooled_layer_output)"
   ]
  },
  {
   "cell_type": "markdown",
   "id": "778c7bc3",
   "metadata": {},
   "source": [
    "#### (5) Flattening (unraveling) Function"
   ]
  },
  {
   "cell_type": "code",
   "execution_count": 16,
   "id": "a3ff787a",
   "metadata": {},
   "outputs": [],
   "source": [
    "def hw3q5Flattening(pooled_volume, flattening_matrix):\n",
    "    array1d = list()\n",
    "    for i in range(pooled_volume.shape[0]):\n",
    "        for j in range(pooled_volume.shape[1]):\n",
    "            for m in range(pooled_volume.shape[2]):\n",
    "                array1d.append(pooled_volume[i][j][m])\n",
    "    array1d = np.array(array1d)\n",
    "    output = np.matmul(flattening_matrix, array1d)\n",
    "    return output"
   ]
  },
  {
   "cell_type": "code",
   "execution_count": 17,
   "id": "8256704f",
   "metadata": {},
   "outputs": [
    {
     "name": "stdout",
     "output_type": "stream",
     "text": [
      "input pooled volume size :  (7, 7, 4)\n",
      "input pooled volume : \n",
      "[[[ 625.  931.    0.    0.]\n",
      "  [ 668.  931.    0.    0.]\n",
      "  [ 734.  939.    0.    0.]\n",
      "  [ 734.  939.    0.    0.]\n",
      "  [ 619.  939.    0.    0.]\n",
      "  [ 616.  933.    0.    0.]\n",
      "  [ 616.  933.    0.    0.]]\n",
      "\n",
      " [[ 590.  920.    0.    0.]\n",
      "  [ 668.  920.    0.    0.]\n",
      "  [ 734.  972.    0.    0.]\n",
      "  [ 734.  995.    0.    0.]\n",
      "  [ 659.  995.    0.    0.]\n",
      "  [ 612.  963.    0.    0.]\n",
      "  [ 608.  926.    0.    0.]]\n",
      "\n",
      " [[ 383.  869.    0.    0.]\n",
      "  [ 617.  861.    0.    0.]\n",
      "  [ 734.  972.    0.    0.]\n",
      "  [ 734.  995.    0.    0.]\n",
      "  [ 686.  995.    0.    0.]\n",
      "  [ 680.  990.    0.    0.]\n",
      "  [ 680.  990.    0.    0.]]\n",
      "\n",
      " [[ 314.  806.    0.    0.]\n",
      "  [ 743.  830.    0.    0.]\n",
      "  [ 773.  972.    0.    0.]\n",
      "  [ 849.  995.    0.    0.]\n",
      "  [ 871.  995.    0.    0.]\n",
      "  [ 896.  990.    0.    0.]\n",
      "  [ 896.  990.    0.    0.]]\n",
      "\n",
      " [[ 669.  949.    0.    0.]\n",
      "  [ 821.  938.    0.    0.]\n",
      "  [ 821.  874.    0.    0.]\n",
      "  [ 849.  874.    0.    0.]\n",
      "  [ 871.  965.    0.    0.]\n",
      "  [ 896.  990.    0.    0.]\n",
      "  [ 896.  990.    0.    0.]]\n",
      "\n",
      " [[ 711. 1006.    0.    0.]\n",
      "  [ 892.  998.    0.    0.]\n",
      "  [ 940. 1002.    0.    0.]\n",
      "  [ 977. 1002.    0.    0.]\n",
      "  [ 977. 1032.    0.    0.]\n",
      "  [ 956. 1032.    0.    0.]\n",
      "  [ 725.  798.    0.    0.]]\n",
      "\n",
      " [[ 897. 1006.    0.    0.]\n",
      "  [ 947.  998.    0.    0.]\n",
      "  [ 980. 1002.    0.    0.]\n",
      "  [ 990. 1002.    0.    0.]\n",
      "  [ 990. 1091.    0.    0.]\n",
      "  [ 956. 1091.    0.    0.]\n",
      "  [ 855. 1091.    0.    0.]]]\n",
      "Flattened array size :  (30,)\n",
      "Flattened array : \n",
      "[ -4939.58842408   4480.25438001 -14146.38624467  -1287.63587116\n",
      "  -2029.11743798 -13144.63692357  -2019.55307861 -10802.00315398\n",
      "  -4111.21752875  -7375.47097531  -6801.41627977  -6030.63499369\n",
      "  -2723.68042767   2499.76733277  -1199.39069689  -3979.44290868\n",
      "  19253.01158286  -5050.26052141   6307.08727774   2563.92809285\n",
      "  -7867.50280699  13358.94431855    777.03763795   8035.30857473\n",
      "  12126.76131578  -7486.86901914  11849.59122113   4690.76251799\n",
      "  -8388.44329676   -527.75459081]\n"
     ]
    }
   ],
   "source": [
    "print(\"input pooled volume size : \", pooled_layer_output.shape)\n",
    "print(\"input pooled volume : \")\n",
    "print(pooled_layer_output)\n",
    "flattening_vector_size = 30\n",
    "flattening_matrix = np.random.randn(flattening_vector_size, pooled_layer_output.shape[0]*pooled_layer_output.shape[1]*pooled_layer_output.shape[2])\n",
    "flattened_array = hw3q5Flattening(pooled_layer_output, flattening_matrix)\n",
    "print(\"Flattened array size : \", flattened_array.shape)\n",
    "print(\"Flattened array : \")\n",
    "print(flattened_array)"
   ]
  },
  {
   "cell_type": "markdown",
   "id": "83bdd36a",
   "metadata": {},
   "source": [
    "#### (6) Multilayer Perceptron (MLP) function (Fully Connected)"
   ]
  },
  {
   "cell_type": "code",
   "execution_count": 18,
   "id": "821e6e25",
   "metadata": {},
   "outputs": [],
   "source": [
    "def RandomMatrices(flattened_vector_size, num_hidden_layer, hidden_layer_sizes, output_layer_size):\n",
    "    hidden_layer_matrices = list()\n",
    "    hidden_layer_matrices.append(np.random.randn(flattened_vector_size, hidden_layer_sizes[0]))\n",
    "    for t in range(num_hidden_layer):\n",
    "        if t == (num_hidden_layer - 1):\n",
    "            hidden_layer_matrices.append(np.random.randn(hidden_layer_sizes[t], output_layer_size))\n",
    "        else:\n",
    "            hidden_layer_matrices.append(np.random.randn(hidden_layer_sizes[t], hidden_layer_sizes[t+1]))\n",
    "    return hidden_layer_matrices\n",
    "\n",
    "def hw3q6MLP(input_vector, hidden_layer_matrices, nl_func, softmax_flag, alpha = 0):\n",
    "    for i in range(len(hidden_layer_matrices)):\n",
    "        if i == 0:\n",
    "            output = np.matmul(np.array([input_vector]), hidden_layer_matrices[i])\n",
    "        else:\n",
    "            output = np.matmul(output, hidden_layer_matrices[i])\n",
    "        for j in range(output.shape[0]):\n",
    "            for k in range(output.shape[1]):\n",
    "                if nl_func == 'sigmoid':\n",
    "                    output[j][k] = sigmoid(output[j][k])\n",
    "                elif nl_func == 'tanh':\n",
    "                    output[j][k] = tanh(output[j][k])\n",
    "                elif nl_func == 'ReLU':\n",
    "                    output[j][k] = ReLU(output[j][k])\n",
    "                elif nl_func == 'PReLU':\n",
    "                    output[j][k] = leakyrelu(output[j][k], alpha)\n",
    "    sum = 0\n",
    "    if softmax_flag:\n",
    "        for i in range(output.shape[0]):\n",
    "            for j in range(output.shape[1]):\n",
    "                sum = sum + np.exp(output[i][j])\n",
    "        for i in range(output.shape[0]):\n",
    "            for j in range(output.shape[1]):\n",
    "                output[i][j] = (np.exp(output[i][j])/sum)\n",
    "    return output[0]"
   ]
  },
  {
   "cell_type": "code",
   "execution_count": 19,
   "id": "363a520e",
   "metadata": {},
   "outputs": [
    {
     "name": "stdout",
     "output_type": "stream",
     "text": [
      "input vector size :  (30,)\n",
      "input vector : \n",
      "[ -4939.58842408   4480.25438001 -14146.38624467  -1287.63587116\n",
      "  -2029.11743798 -13144.63692357  -2019.55307861 -10802.00315398\n",
      "  -4111.21752875  -7375.47097531  -6801.41627977  -6030.63499369\n",
      "  -2723.68042767   2499.76733277  -1199.39069689  -3979.44290868\n",
      "  19253.01158286  -5050.26052141   6307.08727774   2563.92809285\n",
      "  -7867.50280699  13358.94431855    777.03763795   8035.30857473\n",
      "  12126.76131578  -7486.86901914  11849.59122113   4690.76251799\n",
      "  -8388.44329676   -527.75459081]\n",
      "MLP Output with softmax : \n",
      "[0.10078878 0.13329299 0.10451546 0.06634696 0.12803039 0.10310996\n",
      " 0.08700555 0.08607566 0.08031898 0.11051526]\n"
     ]
    },
    {
     "name": "stderr",
     "output_type": "stream",
     "text": [
      "C:\\Users\\sanyo\\AppData\\Local\\Temp/ipykernel_12244/426153895.py:35: RuntimeWarning: overflow encountered in exp\n",
      "  sig = (1.0/(1+np.exp(-z)))\n"
     ]
    },
    {
     "data": {
      "image/png": "[encoded data removed]",
      "text/plain": [
       "<Figure size 432x288 with 1 Axes>"
      ]
     },
     "metadata": {
      "needs_background": "light"
     },
     "output_type": "display_data"
    },
    {
     "name": "stdout",
     "output_type": "stream",
     "text": [
      "MLP Output without softmax : \n",
      "[0.58214803 0.86167063 0.61845601 0.16401888 0.8213886  0.604917\n",
      " 0.43509288 0.42434764 0.35512694 0.67427458]\n"
     ]
    },
    {
     "name": "stderr",
     "output_type": "stream",
     "text": [
      "C:\\Users\\sanyo\\AppData\\Local\\Temp/ipykernel_12244/426153895.py:35: RuntimeWarning: overflow encountered in exp\n",
      "  sig = (1.0/(1+np.exp(-z)))\n"
     ]
    },
    {
     "data": {
      "image/png": "[encoded data removed]",
      "text/plain": [
       "<Figure size 432x288 with 1 Axes>"
      ]
     },
     "metadata": {
      "needs_background": "light"
     },
     "output_type": "display_data"
    }
   ],
   "source": [
    "print(\"input vector size : \", flattened_array.shape)\n",
    "print(\"input vector : \")\n",
    "print(flattened_array)\n",
    "#print()\n",
    "num_hidden_layer = 2\n",
    "hidden_layer_sizes = np.array([3,4])\n",
    "output_layer_size = 10\n",
    "\n",
    "hidden_layer_matrices = RandomMatrices(flattened_array.shape[0], num_hidden_layer, hidden_layer_sizes, output_layer_size)\n",
    "\n",
    "#if leakyReLU is used please pass alpha in the function\n",
    "MLP_output_with_softmax = hw3q6MLP(flattened_array, hidden_layer_matrices, 'sigmoid', True)\n",
    "print(\"MLP Output with softmax : \")\n",
    "print(MLP_output_with_softmax)\n",
    "plt.plot(MLP_output_with_softmax)\n",
    "plt.show()\n",
    "\n",
    "MLP_output_without_softmax = hw3q6MLP(flattened_array, hidden_layer_matrices, 'sigmoid', False)\n",
    "print(\"MLP Output without softmax : \")\n",
    "print(MLP_output_without_softmax)\n",
    "plt.plot(MLP_output_without_softmax)\n",
    "plt.show()"
   ]
  },
  {
   "cell_type": "markdown",
   "id": "31115b9a",
   "metadata": {},
   "source": [
    "#### (7) Feed-forward path"
   ]
  },
  {
   "cell_type": "code",
   "execution_count": 20,
   "id": "2b57141c",
   "metadata": {},
   "outputs": [],
   "source": [
    "def hw3q7MultiLayerKernels(image, num_kernels_array, kernels_size_array, layer_padding, stride_array, pool_layer_size_array, pool_stride_array):\n",
    "    kernels_array = list()\n",
    "    final_pooled_output_size = list()\n",
    "    for i in range(num_kernels_array.shape[0]):\n",
    "        if i == 0:\n",
    "            kernels = hw3q3RandomKernels(num_kernels_array[i], np.append(kernels_size_array[i], image.shape[2]))\n",
    "            temp_width = int((image.shape[0] - kernels_size_array[i][0] + layer_padding[i][0] + stride_array[i][0])/stride_array[i][0])\n",
    "            temp_height = int((image.shape[1] - kernels_size_array[i][1] + layer_padding[i][1] + stride_array[i][1])/stride_array[i][1])\n",
    "        else:\n",
    "            kernels = hw3q3RandomKernels(num_kernels_array[i], np.append(kernels_size_array[i], num_kernels_array[i-1]))\n",
    "            temp_width = int((layer_pooled_output_width - kernels_size_array[i][0] + layer_padding[i][0] + stride_array[i][0])/stride_array[i][0])\n",
    "            temp_height = int((layer_pooled_output_height - kernels_size_array[i][1] + layer_padding[i][1] + stride_array[i][1])/stride_array[i][1])\n",
    "        kernels_array.append(kernels)\n",
    "        layer_pooled_output_width = int((temp_width - pool_layer_size_array[i][0] + pool_stride_array[i][0])/pool_stride_array[i][0])\n",
    "        layer_pooled_output_height = int((temp_width - pool_layer_size_array[i][1] + pool_stride_array[i][1])/pool_stride_array[i][1])\n",
    "    final_pooled_output_size.append(layer_pooled_output_width)\n",
    "    final_pooled_output_size.append(layer_pooled_output_height)\n",
    "    final_pooled_output_size.append(num_kernels_array[-1])\n",
    "    return kernels_array, final_pooled_output_size\n",
    "        \n",
    "def hw3q7FeedForwardPath(img, num_kernels_array, kernels_array, layer_padding, stride_array, pool_layer_size_array, pool_stride_array, flattening_matrix, hidden_layer_matrices, pool_func, nl_func, softmax_flag):\n",
    "    pooled_output = img\n",
    "    for i in range(num_kernels_array.shape[0]):\n",
    "        conv_output = hw3q3ConvolutionLayer(pooled_output, kernels_array[i], stride_array[i], layer_padding[i], nl_func)\n",
    "        pooled_output = hw3q4PoolingLayer(conv_output, pool_func, pool_layer_size_array[i], pool_stride_array[i])\n",
    "    flattened_output = hw3q5Flattening(pooled_output, flattening_matrix)\n",
    "    MLP_output = hw3q6MLP(flattened_output, hidden_layer_matrices, nl_func, softmax_flag)\n",
    "    return MLP_output"
   ]
  },
  {
   "cell_type": "code",
   "execution_count": 21,
   "id": "8e789335",
   "metadata": {},
   "outputs": [
    {
     "name": "stderr",
     "output_type": "stream",
     "text": [
      "C:\\Users\\sanyo\\AppData\\Local\\Temp/ipykernel_12244/426153895.py:35: RuntimeWarning: overflow encountered in exp\n",
      "  sig = (1.0/(1+np.exp(-z)))\n"
     ]
    },
    {
     "name": "stdout",
     "output_type": "stream",
     "text": [
      "value of C2 is equal to the number of kernels in the previous convolution layer - 16\n",
      "original input image size :  (32, 32, 3)\n",
      "original image\n"
     ]
    },
    {
     "data": {
      "image/png": "[encoded data removed]",
      "text/plain": [
       "<Figure size 432x288 with 1 Axes>"
      ]
     },
     "metadata": {
      "needs_background": "light"
     },
     "output_type": "display_data"
    },
    {
     "name": "stdout",
     "output_type": "stream",
     "text": [
      "Ouput vector size :  (10,)\n",
      "[0.06774289 0.07178687 0.07590387 0.16958957 0.08267311 0.09339018\n",
      " 0.06943957 0.14930831 0.08805925 0.13210637]\n"
     ]
    },
    {
     "data": {
      "image/png": "[encoded data removed]",
      "text/plain": [
       "<Figure size 432x288 with 1 Axes>"
      ]
     },
     "metadata": {
      "needs_background": "light"
     },
     "output_type": "display_data"
    }
   ],
   "source": [
    "num_kernels_array = np.array([16, 8])\n",
    "kernels_size_array = np.array([[3,3], [3,3]])\n",
    "layer_padding = np.array([[0, 0], [0,0]])\n",
    "stride_array = np.array([[1,1], [1,1]])\n",
    "pool_layer_size_array = np.array([[2,2], [2,2]])\n",
    "pool_stride_array = np.array([[2,2], [2,2]])\n",
    "flattening_vector_size = 40\n",
    "num_hidden_layer = 1\n",
    "hidden_layer_sizes = np.array([8])\n",
    "output_layer_size = 10\n",
    "softmax_flag = True\n",
    "nl_func = 'sigmoid'\n",
    "pool_func = 'maximum'\n",
    "\n",
    "kernels_array, final_pooled_output_size = hw3q7MultiLayerKernels(image, num_kernels_array, kernels_size_array, layer_padding, stride_array, pool_layer_size_array, pool_stride_array)\n",
    "\n",
    "hidden_layer_matrices = RandomMatrices(flattening_vector_size, num_hidden_layer, hidden_layer_sizes, output_layer_size)\n",
    "\n",
    "flattening_matrix = np.random.randn(flattening_vector_size, final_pooled_output_size[0]*final_pooled_output_size[1]*final_pooled_output_size[2])\n",
    "\n",
    "output_vector = hw3q7FeedForwardPath(image, num_kernels_array, kernels_array, layer_padding, stride_array, pool_layer_size_array, pool_stride_array, flattening_matrix, hidden_layer_matrices, pool_func, nl_func, softmax_flag)\n",
    "\n",
    "print(\"value of C2 is equal to the number of kernels in the previous convolution layer - 16\")\n",
    "print(\"original input image size : \", image.shape)\n",
    "print(\"original image\")\n",
    "plt.imshow(image)\n",
    "plt.show()\n",
    "print(\"Ouput vector size : \", output_vector.shape)\n",
    "print(output_vector)\n",
    "plt.plot(output_vector)\n",
    "plt.show()"
   ]
  },
  {
   "cell_type": "markdown",
   "id": "651aed21",
   "metadata": {},
   "source": [
    "#### (8) (a)"
   ]
  },
  {
   "cell_type": "code",
   "execution_count": 22,
   "id": "5fd7874c",
   "metadata": {},
   "outputs": [
    {
     "name": "stdout",
     "output_type": "stream",
     "text": [
      "Input image size :  (32, 32, 3)\n",
      "Input image : \n"
     ]
    },
    {
     "data": {
      "image/png": "[encoded data removed]",
      "text/plain": [
       "<Figure size 432x288 with 1 Axes>"
      ]
     },
     "metadata": {
      "needs_background": "light"
     },
     "output_type": "display_data"
    },
    {
     "name": "stderr",
     "output_type": "stream",
     "text": [
      "C:\\Users\\sanyo\\AppData\\Local\\Temp/ipykernel_12244/426153895.py:35: RuntimeWarning: overflow encountered in exp\n",
      "  sig = (1.0/(1+np.exp(-z)))\n"
     ]
    },
    {
     "name": "stdout",
     "output_type": "stream",
     "text": [
      "Output size :  (10,)\n",
      "[0.06798876 0.07632196 0.08896801 0.16038593 0.0764903  0.11232667\n",
      " 0.06890104 0.12937419 0.12543846 0.09380468]\n",
      "Input image size :  (32, 32, 3)\n",
      "Input image : \n"
     ]
    },
    {
     "data": {
      "image/png": "[encoded data removed]",
      "text/plain": [
       "<Figure size 432x288 with 1 Axes>"
      ]
     },
     "metadata": {
      "needs_background": "light"
     },
     "output_type": "display_data"
    },
    {
     "name": "stdout",
     "output_type": "stream",
     "text": [
      "Output size :  (10,)\n",
      "[0.06799767 0.0762764  0.08880114 0.16053318 0.07655884 0.11213909\n",
      " 0.06892331 0.12961761 0.12502746 0.09412528]\n",
      "Input image size :  (32, 32, 3)\n",
      "Input image : \n"
     ]
    },
    {
     "data": {
      "image/png": "[encoded data removed]",
      "text/plain": [
       "<Figure size 432x288 with 1 Axes>"
      ]
     },
     "metadata": {
      "needs_background": "light"
     },
     "output_type": "display_data"
    },
    {
     "name": "stdout",
     "output_type": "stream",
     "text": [
      "Output size :  (10,)\n",
      "[0.06798877 0.07632198 0.08896793 0.16038599 0.07649033 0.11232663\n",
      " 0.06890106 0.12937424 0.1254384  0.09380466]\n",
      "Input image size :  (32, 32, 3)\n",
      "Input image : \n"
     ]
    },
    {
     "data": {
      "image/png": "[encoded data removed]",
      "text/plain": [
       "<Figure size 432x288 with 1 Axes>"
      ]
     },
     "metadata": {
      "needs_background": "light"
     },
     "output_type": "display_data"
    },
    {
     "name": "stdout",
     "output_type": "stream",
     "text": [
      "Output size :  (10,)\n",
      "[0.06798876 0.07632196 0.08896801 0.16038593 0.0764903  0.11232667\n",
      " 0.06890104 0.12937419 0.12543846 0.09380468]\n",
      "Input image size :  (32, 32, 3)\n",
      "Input image : \n"
     ]
    },
    {
     "data": {
      "image/png": "[encoded data removed]",
      "text/plain": [
       "<Figure size 432x288 with 1 Axes>"
      ]
     },
     "metadata": {
      "needs_background": "light"
     },
     "output_type": "display_data"
    },
    {
     "name": "stdout",
     "output_type": "stream",
     "text": [
      "Output size :  (10,)\n",
      "[0.06798876 0.07632195 0.08896801 0.16038594 0.0764903  0.11232667\n",
      " 0.06890104 0.12937419 0.12543846 0.09380468]\n",
      "Input image size :  (32, 32, 3)\n",
      "Input image : \n"
     ]
    },
    {
     "data": {
      "image/png": "[encoded data removed]",
      "text/plain": [
       "<Figure size 432x288 with 1 Axes>"
      ]
     },
     "metadata": {
      "needs_background": "light"
     },
     "output_type": "display_data"
    },
    {
     "name": "stdout",
     "output_type": "stream",
     "text": [
      "Output size :  (10,)\n",
      "[0.06798876 0.07632196 0.08896801 0.16038593 0.0764903  0.11232667\n",
      " 0.06890104 0.12937419 0.12543846 0.09380468]\n",
      "Input image size :  (32, 32, 3)\n",
      "Input image : \n"
     ]
    },
    {
     "data": {
      "image/png": "[encoded data removed]",
      "text/plain": [
       "<Figure size 432x288 with 1 Axes>"
      ]
     },
     "metadata": {
      "needs_background": "light"
     },
     "output_type": "display_data"
    },
    {
     "name": "stdout",
     "output_type": "stream",
     "text": [
      "Output size :  (10,)\n",
      "[0.06798876 0.07632195 0.08896801 0.16038594 0.0764903  0.11232667\n",
      " 0.06890104 0.12937419 0.12543846 0.09380468]\n",
      "Input image size :  (32, 32, 3)\n",
      "Input image : \n"
     ]
    },
    {
     "data": {
      "image/png": "[encoded data removed]",
      "text/plain": [
       "<Figure size 432x288 with 1 Axes>"
      ]
     },
     "metadata": {
      "needs_background": "light"
     },
     "output_type": "display_data"
    },
    {
     "name": "stdout",
     "output_type": "stream",
     "text": [
      "Output size :  (10,)\n",
      "[0.06798876 0.07632196 0.08896801 0.16038593 0.0764903  0.11232667\n",
      " 0.06890104 0.12937419 0.12543846 0.09380468]\n",
      "Input image size :  (32, 32, 3)\n",
      "Input image : \n"
     ]
    },
    {
     "data": {
      "image/png": "[encoded data removed]",
      "text/plain": [
       "<Figure size 432x288 with 1 Axes>"
      ]
     },
     "metadata": {
      "needs_background": "light"
     },
     "output_type": "display_data"
    },
    {
     "name": "stdout",
     "output_type": "stream",
     "text": [
      "Output size :  (10,)\n",
      "[0.06774289 0.07178687 0.07590387 0.16958957 0.08267311 0.09339018\n",
      " 0.06943957 0.14930831 0.08805925 0.13210637]\n",
      "Input image size :  (32, 32, 3)\n",
      "Input image : \n"
     ]
    },
    {
     "data": {
      "image/png": "[encoded data removed]",
      "text/plain": [
       "<Figure size 432x288 with 1 Axes>"
      ]
     },
     "metadata": {
      "needs_background": "light"
     },
     "output_type": "display_data"
    },
    {
     "name": "stdout",
     "output_type": "stream",
     "text": [
      "Output size :  (10,)\n",
      "[0.0679889  0.07632124 0.08896537 0.16038826 0.07649138 0.11232371\n",
      " 0.0689014  0.12937804 0.12543198 0.09380972]\n"
     ]
    }
   ],
   "source": [
    "inputs = list()\n",
    "for i in range(0,10):\n",
    "    dictionary = unpickle('cifar-10-batches-py\\data_batch_1')\n",
    "    k = dictionary[b'labels'].index(i)\n",
    "    image = ImageMatrix(dictionary, k)\n",
    "    inputs.append(image)\n",
    "\n",
    "outputs = list()\n",
    "for i in range(10):\n",
    "    print(\"Input image size : \", inputs[i].shape)\n",
    "    print(\"Input image : \")\n",
    "    plt.imshow(inputs[i])\n",
    "    plt.show()\n",
    "    \n",
    "    output_vector = hw3q7FeedForwardPath(inputs[i], num_kernels_array, kernels_array, layer_padding, stride_array, pool_layer_size_array, pool_stride_array, flattening_matrix, hidden_layer_matrices, pool_func, nl_func, softmax_flag)\n",
    "    outputs.append(output_vector)\n",
    "    print(\"Output size : \", output_vector.shape)\n",
    "    print(output_vector)"
   ]
  },
  {
   "cell_type": "markdown",
   "id": "d1f79960",
   "metadata": {},
   "source": [
    "#### (b)"
   ]
  },
  {
   "cell_type": "code",
   "execution_count": 23,
   "id": "7ffca500",
   "metadata": {},
   "outputs": [
    {
     "name": "stderr",
     "output_type": "stream",
     "text": [
      "C:\\Users\\sanyo\\AppData\\Local\\Temp/ipykernel_12244/426153895.py:35: RuntimeWarning: overflow encountered in exp\n",
      "  sig = (1.0/(1+np.exp(-z)))\n"
     ]
    },
    {
     "name": "stdout",
     "output_type": "stream",
     "text": [
      "(30, 40)\n",
      "(40,)\n"
     ]
    },
    {
     "data": {
      "text/plain": [
       "\"\\ntsne =  TSNE(n_components=2, learning_rate='auto', init='random')\\nY_output = tsne.fit_transform(np.array(flattened_outputs))\\ncolors = ['black', 'blue', 'green', 'red', 'yellow', 'purple', 'brown', 'magenta', 'cyan', 'orange']\\nfor i in range(10):\\n    plt.scatter(Y_output[i*3:i*3+3, 0], Y_output[i*3:i*3+3, 1], c = colors[i], label = i)\\n#plt.scatter(x_axis, y_axis)\\nplt.legend()\\nplt.show()\\n\""
      ]
     },
     "execution_count": 23,
     "metadata": {},
     "output_type": "execute_result"
    }
   ],
   "source": [
    "def hw3q8BottleneckOutput(img, num_kernels_array, kernels_array, layer_padding, stride_array, pool_layer_size_array, pool_stride_array, flattening_matrix, pool_func, nl_func):\n",
    "    pooled_output = img\n",
    "    for i in range(num_kernels_array.shape[0]):\n",
    "        conv_output = hw3q3ConvolutionLayer(pooled_output, kernels_array[i], stride_array[i], layer_padding[i], nl_func)\n",
    "        pooled_output = hw3q4PoolingLayer(conv_output, pool_func, pool_layer_size_array[i], pool_stride_array[i])\n",
    "    flattened_output = hw3q5Flattening(pooled_output, flattening_matrix)\n",
    "    return flattened_output\n",
    "\n",
    "flattened_outputs = list()\n",
    "inputs = list()\n",
    "for i in range(0,10):\n",
    "    dictionary = unpickle('cifar-10-batches-py\\data_batch_1')\n",
    "    indices = np.where(np.array(dictionary[b'labels']) == i)[0]\n",
    "    inputs_temp = list()\n",
    "    for j in range(3):\n",
    "        image = ImageMatrix(dictionary, indices[j])\n",
    "        inputs_temp.append(image)\n",
    "    inputs.append(inputs_temp)\n",
    "\n",
    "for i in range(0,10):\n",
    "    for j in range(3):\n",
    "        #print(\"Input image size : \", inputs[i][j].shape)\n",
    "        #print(\"Input image : \")\n",
    "        #plt.imshow(inputs[i][j])\n",
    "        #plt.show()\n",
    "        flattened_output = hw3q8BottleneckOutput(inputs[i][j], num_kernels_array, kernels_array, layer_padding, stride_array, pool_layer_size_array, pool_stride_array, flattening_matrix, pool_func, nl_func)\n",
    "        flattened_outputs.append(flattened_output)\n",
    "print(np.array(flattened_outputs).shape)\n",
    "print(np.array(flattened_outputs)[0].shape)\n",
    "\"\"\"\n",
    "tsne =  TSNE(n_components=2, learning_rate='auto', init='random')\n",
    "Y_output = tsne.fit_transform(np.array(flattened_outputs))\n",
    "colors = ['black', 'blue', 'green', 'red', 'yellow', 'purple', 'brown', 'magenta', 'cyan', 'orange']\n",
    "for i in range(10):\n",
    "    plt.scatter(Y_output[i*3:i*3+3, 0], Y_output[i*3:i*3+3, 1], c = colors[i], label = i)\n",
    "#plt.scatter(x_axis, y_axis)\n",
    "plt.legend()\n",
    "plt.show()\n",
    "\"\"\""
   ]
  },
  {
   "cell_type": "code",
   "execution_count": null,
   "id": "01ec53f4",
   "metadata": {},
   "outputs": [],
   "source": [
    "print(\"Ouptut from the inbuilt tSNE seems to be very scattered and there seems to be no separate classes visible from the plot\")"
   ]
  },
  {
   "cell_type": "code",
   "execution_count": 4,
   "id": "8d61d53a",
   "metadata": {},
   "outputs": [
    {
     "name": "stdout",
     "output_type": "stream",
     "text": [
      "1.3\n"
     ]
    }
   ],
   "source": [
    "print((13.0/100)*10)"
   ]
  }
 ],
 "metadata": {
  "kernelspec": {
   "display_name": "Python 3 (ipykernel)",
   "language": "python",
   "name": "python3"
  },
  "language_info": {
   "codemirror_mode": {
    "name": "ipython",
    "version": 3
   },
   "file_extension": ".py",
   "mimetype": "text/x-python",
   "name": "python",
   "nbconvert_exporter": "python",
   "pygments_lexer": "ipython3",
   "version": "3.9.7"
  }
 },
 "nbformat": 4,
 "nbformat_minor": 5
}
